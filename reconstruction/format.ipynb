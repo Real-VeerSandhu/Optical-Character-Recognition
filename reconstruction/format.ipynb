{
 "cells": [
  {
   "cell_type": "code",
   "execution_count": 8,
   "metadata": {},
   "outputs": [],
   "source": [
    "import json\n",
    " \n",
    "# Opening JSON file\n",
    "with open('recon_output3.json') as json_file:\n",
    "    data = json.load(json_file)"
   ]
  },
  {
   "cell_type": "code",
   "execution_count": 9,
   "metadata": {},
   "outputs": [
    {
     "data": {
      "text/plain": [
       "{'5': 'Part Number MWI Manufacturer Description ',\n",
       " '41': 'LF14000NN FLEET GUARD , INC ( FLTGR ) OIL FILTER , OAH , 294.69MM ( 11.602 IN . ) LARGEST OD , 120.3MM ( 4.736 IN . ) GASKET OD . ',\n",
       " '157': 'Cross - References ( 95 ) MWI Manufacturer Description ',\n",
       " '201': '10558156 ADVANCE AUTO PARTS ( ADVAP ) ',\n",
       " '236': '11500178 ADVANCE AUTO PARTS ( ADVAP ) '}"
      ]
     },
     "execution_count": 9,
     "metadata": {},
     "output_type": "execute_result"
    }
   ],
   "source": [
    "data"
   ]
  },
  {
   "cell_type": "code",
   "execution_count": 10,
   "metadata": {},
   "outputs": [
    {
     "name": "stdout",
     "output_type": "stream",
     "text": [
      "Part Number MWI Manufacturer Description \n",
      "LF14000NN FLEET GUARD , INC ( FLTGR ) OIL FILTER , OAH , 294.69MM ( 11.602 IN . ) LARGEST OD , 120.3MM ( 4.736 IN . ) GASKET OD . \n",
      "Cross - References ( 95 ) MWI Manufacturer Description \n",
      "10558156 ADVANCE AUTO PARTS ( ADVAP ) \n",
      "11500178 ADVANCE AUTO PARTS ( ADVAP ) \n"
     ]
    }
   ],
   "source": [
    "for i in (data):\n",
    "    print(data[i])"
   ]
  },
  {
   "cell_type": "code",
   "execution_count": 11,
   "metadata": {},
   "outputs": [],
   "source": [
    "dict = {}\n",
    "\n",
    "for i in range(len(data)-3):\n",
    "    key = f'{i}'\n",
    "    dict[key] = ''\n"
   ]
  },
  {
   "cell_type": "code",
   "execution_count": 12,
   "metadata": {},
   "outputs": [
    {
     "data": {
      "text/plain": [
       "{'0': {'Part_Number': '', 'Manufacturer': '', 'Description': ''},\n",
       " '1': {'Part_Number': '', 'Manufacturer': '', 'Description': ''}}"
      ]
     },
     "execution_count": 12,
     "metadata": {},
     "output_type": "execute_result"
    }
   ],
   "source": [
    "cross_references = {}\n",
    "\n",
    "for i in range(len(data)-3):\n",
    "    key = f'{i}'\n",
    "    cross_references[key] = {'Part_Number': '', 'Manufacturer': '', 'Description': ''}\n",
    "\n",
    "cross_references"
   ]
  },
  {
   "cell_type": "code",
   "execution_count": 13,
   "metadata": {},
   "outputs": [
    {
     "data": {
      "text/plain": [
       "['10558156 ADVANCE AUTO PARTS ( ADVAP ) ',\n",
       " '11500178 ADVANCE AUTO PARTS ( ADVAP ) ']"
      ]
     },
     "execution_count": 13,
     "metadata": {},
     "output_type": "execute_result"
    }
   ],
   "source": [
    "refs = list(data.values())[3:]\n",
    "refs"
   ]
  },
  {
   "cell_type": "code",
   "execution_count": 14,
   "metadata": {},
   "outputs": [
    {
     "name": "stdout",
     "output_type": "stream",
     "text": [
      "10558156\n",
      "0\n",
      "11500178\n",
      "1\n"
     ]
    },
    {
     "data": {
      "text/plain": [
       "{'0': {'Part_Number': '10558156',\n",
       "  'Manufacturer': 'ADVANCE AUTO PARTS ( ADVAP )',\n",
       "  'Description': ''},\n",
       " '1': {'Part_Number': '11500178',\n",
       "  'Manufacturer': 'ADVANCE AUTO PARTS ( ADVAP )',\n",
       "  'Description': ''}}"
      ]
     },
     "execution_count": 14,
     "metadata": {},
     "output_type": "execute_result"
    }
   ],
   "source": [
    "for i in range(len(refs)):\n",
    "    arr = refs[i].split(' ')\n",
    "    print(arr[0])\n",
    "    print(i)\n",
    "\n",
    "    cross_references[str(i)]['Part_Number'] = arr[0]\n",
    "\n",
    "    cross_references[str(i)]['Manufacturer'] = ' '.join(arr[1:arr.index(')')+1])\n",
    "\n",
    "    cross_references[str(i)]['Description'] = arr[arr.index(')')+1]\n",
    "\n",
    "cross_references\n",
    "    "
   ]
  },
  {
   "cell_type": "code",
   "execution_count": null,
   "metadata": {},
   "outputs": [],
   "source": []
  },
  {
   "cell_type": "code",
   "execution_count": null,
   "metadata": {},
   "outputs": [],
   "source": []
  }
 ],
 "metadata": {
  "kernelspec": {
   "display_name": "base",
   "language": "python",
   "name": "python3"
  },
  "language_info": {
   "codemirror_mode": {
    "name": "ipython",
    "version": 3
   },
   "file_extension": ".py",
   "mimetype": "text/x-python",
   "name": "python",
   "nbconvert_exporter": "python",
   "pygments_lexer": "ipython3",
   "version": "3.10.10"
  },
  "orig_nbformat": 4
 },
 "nbformat": 4,
 "nbformat_minor": 2
}
