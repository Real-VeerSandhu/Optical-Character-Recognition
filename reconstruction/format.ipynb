{
 "cells": [
  {
   "cell_type": "code",
   "execution_count": 2,
   "metadata": {},
   "outputs": [],
   "source": [
    "import json\n",
    " \n",
    "# Opening JSON file\n",
    "with open('reconstructed_output.json') as json_file:\n",
    "    data = json.load(json_file)"
   ]
  },
  {
   "cell_type": "code",
   "execution_count": 5,
   "metadata": {},
   "outputs": [],
   "source": [
    "data = data['data']"
   ]
  },
  {
   "cell_type": "code",
   "execution_count": 6,
   "metadata": {},
   "outputs": [
    {
     "ename": "TypeError",
     "evalue": "list indices must be integers or slices, not dict",
     "output_type": "error",
     "traceback": [
      "\u001b[0;31m---------------------------------------------------------------------------\u001b[0m",
      "\u001b[0;31mTypeError\u001b[0m                                 Traceback (most recent call last)",
      "Cell \u001b[0;32mIn[6], line 2\u001b[0m\n\u001b[1;32m      1\u001b[0m \u001b[39mfor\u001b[39;00m i \u001b[39min\u001b[39;00m (data):\n\u001b[0;32m----> 2\u001b[0m     \u001b[39mprint\u001b[39m(data[i])\n",
      "\u001b[0;31mTypeError\u001b[0m: list indices must be integers or slices, not dict"
     ]
    }
   ],
   "source": [
    "for i in (data):\n",
    "    print(data[i])"
   ]
  },
  {
   "cell_type": "code",
   "execution_count": 11,
   "metadata": {},
   "outputs": [],
   "source": [
    "dict = {}\n",
    "\n",
    "for i in range(len(data)-3):\n",
    "    key = f'{i}'\n",
    "    dict[key] = ''\n"
   ]
  },
  {
   "cell_type": "code",
   "execution_count": 12,
   "metadata": {},
   "outputs": [
    {
     "data": {
      "text/plain": [
       "{'0': {'Part_Number': '', 'Manufacturer': '', 'Description': ''},\n",
       " '1': {'Part_Number': '', 'Manufacturer': '', 'Description': ''}}"
      ]
     },
     "execution_count": 12,
     "metadata": {},
     "output_type": "execute_result"
    }
   ],
   "source": [
    "cross_references = {}\n",
    "\n",
    "for i in range(len(data)-3):\n",
    "    key = f'{i}'\n",
    "    cross_references[key] = {'Part_Number': '', 'Manufacturer': '', 'Description': ''}\n",
    "\n",
    "cross_references"
   ]
  },
  {
   "cell_type": "code",
   "execution_count": 13,
   "metadata": {},
   "outputs": [
    {
     "data": {
      "text/plain": [
       "['10558156 ADVANCE AUTO PARTS ( ADVAP ) ',\n",
       " '11500178 ADVANCE AUTO PARTS ( ADVAP ) ']"
      ]
     },
     "execution_count": 13,
     "metadata": {},
     "output_type": "execute_result"
    }
   ],
   "source": [
    "refs = list(data.values())[3:]\n",
    "refs"
   ]
  },
  {
   "cell_type": "code",
   "execution_count": 14,
   "metadata": {},
   "outputs": [
    {
     "name": "stdout",
     "output_type": "stream",
     "text": [
      "10558156\n",
      "0\n",
      "11500178\n",
      "1\n"
     ]
    },
    {
     "data": {
      "text/plain": [
       "{'0': {'Part_Number': '10558156',\n",
       "  'Manufacturer': 'ADVANCE AUTO PARTS ( ADVAP )',\n",
       "  'Description': ''},\n",
       " '1': {'Part_Number': '11500178',\n",
       "  'Manufacturer': 'ADVANCE AUTO PARTS ( ADVAP )',\n",
       "  'Description': ''}}"
      ]
     },
     "execution_count": 14,
     "metadata": {},
     "output_type": "execute_result"
    }
   ],
   "source": [
    "for i in range(len(refs)):\n",
    "    arr = refs[i].split(' ')\n",
    "    print(arr[0])\n",
    "    print(i)\n",
    "\n",
    "    cross_references[str(i)]['Part_Number'] = arr[0]\n",
    "\n",
    "    cross_references[str(i)]['Manufacturer'] = ' '.join(arr[1:arr.index(')')+1])\n",
    "\n",
    "    cross_references[str(i)]['Description'] = arr[arr.index(')')+1]\n",
    "\n",
    "cross_references\n",
    "    "
   ]
  },
  {
   "cell_type": "code",
   "execution_count": null,
   "metadata": {},
   "outputs": [],
   "source": []
  },
  {
   "cell_type": "code",
   "execution_count": null,
   "metadata": {},
   "outputs": [],
   "source": []
  }
 ],
 "metadata": {
  "kernelspec": {
   "display_name": "base",
   "language": "python",
   "name": "python3"
  },
  "language_info": {
   "codemirror_mode": {
    "name": "ipython",
    "version": 3
   },
   "file_extension": ".py",
   "mimetype": "text/x-python",
   "name": "python",
   "nbconvert_exporter": "python",
   "pygments_lexer": "ipython3",
   "version": "3.10.10"
  },
  "orig_nbformat": 4
 },
 "nbformat": 4,
 "nbformat_minor": 2
}
