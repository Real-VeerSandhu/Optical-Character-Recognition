{
 "cells": [
  {
   "cell_type": "code",
   "execution_count": 54,
   "metadata": {},
   "outputs": [],
   "source": [
    "import json\n",
    "\n",
    "# Opening JSON file\n",
    "f = open('output.json')\n",
    "\n",
    "# returns JSON object as\n",
    "# a dictionary\n",
    "data = json.load(f) # data['data] len: 59"
   ]
  },
  {
   "cell_type": "code",
   "execution_count": 55,
   "metadata": {},
   "outputs": [
    {
     "name": "stdout",
     "output_type": "stream",
     "text": [
      "59\n"
     ]
    }
   ],
   "source": [
    "x_top_left = []\n",
    "'''0: word index, 1: location'''\n",
    "\n",
    "for i in range(59):\n",
    "\tx_top_left.append([i, data['data'][i]['topLeft']['x']])\n",
    "\n",
    "print(len(data['data']))"
   ]
  },
  {
   "cell_type": "code",
   "execution_count": 56,
   "metadata": {},
   "outputs": [
    {
     "name": "stdout",
     "output_type": "stream",
     "text": [
      "59\n"
     ]
    }
   ],
   "source": [
    "y_top_left = []\n",
    "'''0: word index, 1: location'''\n",
    "\n",
    "for i in range(59):\n",
    "\ty_top_left.append([i, data['data'][i]['topLeft']['y']])\n",
    "\n",
    "print(len(data['data']))"
   ]
  },
  {
   "cell_type": "code",
   "execution_count": 57,
   "metadata": {},
   "outputs": [],
   "source": [
    "def get_text_from_idx(idx):\n",
    "    return data['data'][idx]['text']"
   ]
  },
  {
   "cell_type": "code",
   "execution_count": 58,
   "metadata": {},
   "outputs": [
    {
     "data": {
      "text/plain": [
       "'0: word index, 1: location'"
      ]
     },
     "execution_count": 58,
     "metadata": {},
     "output_type": "execute_result"
    }
   ],
   "source": [
    "sorted_xtL = sorted(x_top_left,key=lambda x: x[1])\n",
    "'''0: word index, 1: location'''\n",
    "\n",
    "sorted_ytL = sorted(y_top_left,key=lambda x: x[1])\n",
    "'''0: word index, 1: location'''"
   ]
  },
  {
   "cell_type": "code",
   "execution_count": 63,
   "metadata": {},
   "outputs": [],
   "source": [
    "corrected_y_coordinates = []\n",
    "prev_y = None\n",
    "\n",
    "for row in sorted_ytL:\n",
    "    y = row[1]\n",
    "    if prev_y is None:\n",
    "        corrected_y_coordinates.append(y)\n",
    "    elif abs(y - prev_y) <= 2:\n",
    "        corrected_y_coordinates.append(corrected_y_coordinates[-1])\n",
    "    else:\n",
    "        corrected_y_coordinates.append(y)\n",
    "\n",
    "    prev_y = corrected_y_coordinates[-1]\n",
    "\n",
    "\n",
    "for i in range(len(sorted_ytL)):\n",
    "    sorted_ytL[i][1] = corrected_y_coordinates[i]"
   ]
  },
  {
   "cell_type": "code",
   "execution_count": 64,
   "metadata": {},
   "outputs": [],
   "source": [
    "corrected_x_coordinates = []\n",
    "prev_x = None\n",
    "\n",
    "for row in sorted_xtL:\n",
    "    x = row[1]\n",
    "    if prev_x is None:\n",
    "        corrected_x_coordinates.append(x)\n",
    "    elif abs(x - prev_x) <= 2:\n",
    "        corrected_x_coordinates.append(corrected_x_coordinates[-1])\n",
    "    else:\n",
    "        corrected_x_coordinates.append(x)\n",
    "\n",
    "    prev_x = corrected_x_coordinates[-1]\n",
    "\n",
    "\n",
    "for i in range(len(sorted_xtL)):\n",
    "    sorted_xtL[i][1] = corrected_x_coordinates[i]"
   ]
  },
  {
   "cell_type": "code",
   "execution_count": 65,
   "metadata": {},
   "outputs": [
    {
     "data": {
      "text/plain": [
       "[[3, 5],\n",
       " [4, 5],\n",
       " [0, 5],\n",
       " [1, 5],\n",
       " [34, 5],\n",
       " [7, 41],\n",
       " [8, 41],\n",
       " [9, 41],\n",
       " [2, 41],\n",
       " [10, 41],\n",
       " [11, 41],\n",
       " [12, 41],\n",
       " [13, 41],\n",
       " [35, 41],\n",
       " [36, 41],\n",
       " [37, 41],\n",
       " [38, 41],\n",
       " [39, 41],\n",
       " [40, 41],\n",
       " [41, 41],\n",
       " [42, 41],\n",
       " [43, 41],\n",
       " [44, 41],\n",
       " [45, 41],\n",
       " [46, 41],\n",
       " [47, 41],\n",
       " [48, 41],\n",
       " [49, 41],\n",
       " [50, 41],\n",
       " [51, 41],\n",
       " [52, 41],\n",
       " [53, 41],\n",
       " [54, 41],\n",
       " [55, 41],\n",
       " [56, 41],\n",
       " [57, 41],\n",
       " [14, 157],\n",
       " [15, 157],\n",
       " [16, 157],\n",
       " [17, 157],\n",
       " [18, 157],\n",
       " [19, 157],\n",
       " [20, 157],\n",
       " [21, 157],\n",
       " [58, 157],\n",
       " [5, 201],\n",
       " [22, 201],\n",
       " [23, 201],\n",
       " [24, 201],\n",
       " [25, 201],\n",
       " [26, 201],\n",
       " [27, 201],\n",
       " [6, 236],\n",
       " [28, 236],\n",
       " [29, 236],\n",
       " [30, 236],\n",
       " [31, 236],\n",
       " [32, 236],\n",
       " [33, 236]]"
      ]
     },
     "execution_count": 65,
     "metadata": {},
     "output_type": "execute_result"
    }
   ],
   "source": [
    "sorted_ytL"
   ]
  },
  {
   "cell_type": "code",
   "execution_count": 67,
   "metadata": {},
   "outputs": [
    {
     "data": {
      "text/plain": [
       "[[2, 3],\n",
       " [5, 3],\n",
       " [6, 3],\n",
       " [14, 8],\n",
       " [0, 8],\n",
       " [1, 45],\n",
       " [15, 52],\n",
       " [16, 58],\n",
       " [17, 154],\n",
       " [18, 160],\n",
       " [19, 178],\n",
       " [3, 209],\n",
       " [20, 209],\n",
       " [28, 266],\n",
       " [7, 266],\n",
       " [22, 266],\n",
       " [4, 274],\n",
       " [21, 274],\n",
       " [8, 322],\n",
       " [23, 345],\n",
       " [29, 345],\n",
       " [9, 379],\n",
       " [10, 389],\n",
       " [24, 395],\n",
       " [30, 395],\n",
       " [11, 424],\n",
       " [12, 430],\n",
       " [25, 446],\n",
       " [31, 446],\n",
       " [32, 452],\n",
       " [26, 452],\n",
       " [13, 481],\n",
       " [27, 504],\n",
       " [33, 504],\n",
       " [35, 682],\n",
       " [34, 689],\n",
       " [58, 689],\n",
       " [36, 718],\n",
       " [37, 773],\n",
       " [38, 785],\n",
       " [39, 821],\n",
       " [40, 831],\n",
       " [41, 921],\n",
       " [42, 928],\n",
       " [43, 989],\n",
       " [44, 1008],\n",
       " [45, 1014],\n",
       " [46, 1026],\n",
       " [47, 1102],\n",
       " [48, 1127],\n",
       " [49, 1138],\n",
       " [50, 1217],\n",
       " [51, 1223],\n",
       " [52, 1275],\n",
       " [53, 1295],\n",
       " [54, 1300],\n",
       " [55, 1312],\n",
       " [56, 1377],\n",
       " [57, 1401]]"
      ]
     },
     "execution_count": 67,
     "metadata": {},
     "output_type": "execute_result"
    }
   ],
   "source": [
    "sorted_xtL"
   ]
  },
  {
   "cell_type": "code",
   "execution_count": 66,
   "metadata": {},
   "outputs": [
    {
     "name": "stdout",
     "output_type": "stream",
     "text": [
      "LF14000NN -> location: 3\n",
      "10558156 -> location: 3\n",
      "11500178 -> location: 3\n",
      "Cross -> location: 8\n",
      "Part -> location: 8\n",
      "Number -> location: 45\n",
      "- -> location: 52\n",
      "References -> location: 58\n",
      "( -> location: 154\n",
      "95 -> location: 160\n",
      ") -> location: 178\n",
      "MWI -> location: 209\n",
      "MWI -> location: 209\n",
      "ADVANCE -> location: 266\n",
      "FLEET -> location: 266\n",
      "ADVANCE -> location: 266\n",
      "Manufacturer -> location: 274\n",
      "Manufacturer -> location: 274\n",
      "GUARD -> location: 322\n",
      "AUTO -> location: 345\n",
      "AUTO -> location: 345\n",
      ", -> location: 379\n",
      "INC -> location: 389\n",
      "PARTS -> location: 395\n",
      "PARTS -> location: 395\n",
      "( -> location: 424\n",
      "FLTGR -> location: 430\n",
      "( -> location: 446\n",
      "( -> location: 446\n",
      "ADVAP -> location: 452\n",
      "ADVAP -> location: 452\n",
      ") -> location: 481\n",
      ") -> location: 504\n",
      ") -> location: 504\n",
      "OIL -> location: 682\n",
      "Description -> location: 689\n",
      "Description -> location: 689\n",
      "FILTER -> location: 718\n",
      ", -> location: 773\n",
      "OAH -> location: 785\n",
      ", -> location: 821\n",
      "294.69MM -> location: 831\n",
      "( -> location: 921\n",
      "11.602 -> location: 928\n",
      "IN -> location: 989\n",
      ". -> location: 1008\n",
      ") -> location: 1014\n",
      "LARGEST -> location: 1026\n",
      "OD -> location: 1102\n",
      ", -> location: 1127\n",
      "120.3MM -> location: 1138\n",
      "( -> location: 1217\n",
      "4.736 -> location: 1223\n",
      "IN -> location: 1275\n",
      ". -> location: 1295\n",
      ") -> location: 1300\n",
      "GASKET -> location: 1312\n",
      "OD -> location: 1377\n",
      ". -> location: 1401\n"
     ]
    }
   ],
   "source": [
    "for i in sorted_xtL:\n",
    "    print(get_text_from_idx(i[0]), '-> location:', i[1])"
   ]
  },
  {
   "cell_type": "code",
   "execution_count": 40,
   "metadata": {},
   "outputs": [
    {
     "data": {
      "text/plain": [
       "[[3, 5],\n",
       " [4, 5],\n",
       " [0, 5],\n",
       " [1, 5],\n",
       " [34, 5],\n",
       " [7, 41],\n",
       " [8, 41],\n",
       " [9, 41],\n",
       " [2, 41],\n",
       " [10, 41],\n",
       " [11, 41],\n",
       " [12, 41],\n",
       " [13, 41],\n",
       " [35, 41],\n",
       " [36, 41],\n",
       " [37, 41],\n",
       " [38, 41],\n",
       " [39, 41],\n",
       " [40, 41],\n",
       " [41, 41],\n",
       " [42, 41],\n",
       " [43, 41],\n",
       " [44, 41],\n",
       " [45, 41],\n",
       " [46, 41],\n",
       " [47, 41],\n",
       " [48, 41],\n",
       " [49, 41],\n",
       " [50, 41],\n",
       " [51, 41],\n",
       " [52, 41],\n",
       " [53, 41],\n",
       " [54, 41],\n",
       " [55, 41],\n",
       " [56, 41],\n",
       " [57, 41],\n",
       " [14, 157],\n",
       " [15, 157],\n",
       " [16, 157],\n",
       " [17, 157],\n",
       " [18, 157],\n",
       " [19, 157],\n",
       " [20, 157],\n",
       " [21, 157],\n",
       " [58, 157],\n",
       " [5, 201],\n",
       " [22, 201],\n",
       " [23, 201],\n",
       " [24, 201],\n",
       " [25, 201],\n",
       " [26, 201],\n",
       " [27, 201],\n",
       " [6, 236],\n",
       " [28, 236],\n",
       " [29, 236],\n",
       " [30, 236],\n",
       " [31, 236],\n",
       " [32, 236],\n",
       " [33, 236]]"
      ]
     },
     "execution_count": 40,
     "metadata": {},
     "output_type": "execute_result"
    }
   ],
   "source": [
    "sorted_ytL"
   ]
  },
  {
   "cell_type": "code",
   "execution_count": 22,
   "metadata": {},
   "outputs": [
    {
     "name": "stdout",
     "output_type": "stream",
     "text": [
      "MWI -> location: 5\n",
      "Manufacturer -> location: 5\n",
      "Part -> location: 6\n",
      "Number -> location: 6\n",
      "Description -> location: 6\n",
      "FLEET -> location: 41\n",
      "GUARD -> location: 41\n",
      ", -> location: 41\n",
      "LF14000NN -> location: 42\n",
      "INC -> location: 42\n",
      "( -> location: 42\n",
      "FLTGR -> location: 42\n",
      ") -> location: 42\n",
      "OIL -> location: 42\n",
      "FILTER -> location: 42\n",
      ", -> location: 42\n",
      "OAH -> location: 42\n",
      ", -> location: 42\n",
      "294.69MM -> location: 42\n",
      "( -> location: 42\n",
      "11.602 -> location: 42\n",
      "IN -> location: 42\n",
      ". -> location: 42\n",
      ") -> location: 42\n",
      "LARGEST -> location: 42\n",
      "OD -> location: 42\n",
      ", -> location: 42\n",
      "120.3MM -> location: 42\n",
      "( -> location: 42\n",
      "4.736 -> location: 42\n",
      "IN -> location: 42\n",
      ". -> location: 42\n",
      ") -> location: 42\n",
      "GASKET -> location: 42\n",
      "OD -> location: 42\n",
      ". -> location: 42\n",
      "Cross -> location: 157\n",
      "- -> location: 157\n",
      "References -> location: 157\n",
      "( -> location: 157\n",
      "95 -> location: 157\n",
      ") -> location: 157\n",
      "MWI -> location: 157\n",
      "Manufacturer -> location: 157\n",
      "Description -> location: 158\n",
      "10558156 -> location: 201\n",
      "ADVANCE -> location: 201\n",
      "AUTO -> location: 201\n",
      "PARTS -> location: 201\n",
      "( -> location: 201\n",
      "ADVAP -> location: 202\n",
      ") -> location: 202\n",
      "11500178 -> location: 236\n",
      "ADVANCE -> location: 236\n",
      "AUTO -> location: 236\n",
      "PARTS -> location: 236\n",
      "( -> location: 236\n",
      "ADVAP -> location: 236\n",
      ") -> location: 236\n"
     ]
    }
   ],
   "source": [
    "for i in sorted_ytL:\n",
    "    print(get_text_from_idx(i[0]), '-> location:', i[1])"
   ]
  },
  {
   "cell_type": "code",
   "execution_count": 28,
   "metadata": {},
   "outputs": [
    {
     "name": "stdout",
     "output_type": "stream",
     "text": [
      "[5, 5, 5, 5, 5, 42, 42]\n"
     ]
    }
   ],
   "source": [
    "y_coordinates = [5, 6, 6, 5, 5, 42, 42]\n",
    "\n",
    "corrected_coordinates = []\n",
    "prev_y = None\n",
    "\n",
    "for y in y_coordinates:\n",
    "    if prev_y is None:\n",
    "        corrected_coordinates.append(y)\n",
    "    elif abs(y - prev_y) <= 2:\n",
    "        corrected_coordinates.append(corrected_coordinates[-1])\n",
    "    else:\n",
    "        corrected_coordinates.append(y)\n",
    "\n",
    "    prev_y = corrected_coordinates[-1]\n",
    "\n",
    "print(corrected_coordinates)"
   ]
  },
  {
   "cell_type": "code",
   "execution_count": 26,
   "metadata": {},
   "outputs": [
    {
     "name": "stdout",
     "output_type": "stream",
     "text": [
      "[5, 5, 5, 5, 5, 42, 42]\n"
     ]
    }
   ],
   "source": [
    "corrected_coordinates = []\n",
    "prev_y = None\n",
    "\n",
    "for y in y_coordinates:\n",
    "    if prev_y is None:\n",
    "        corrected_coordinates.append(y)\n",
    "    elif y - prev_y <= 2:\n",
    "        corrected_coordinates.append(prev_y)\n",
    "    else:\n",
    "        corrected_coordinates.append(y)\n",
    "\n",
    "    prev_y = corrected_coordinates[-1]\n",
    "\n",
    "print(corrected_coordinates)"
   ]
  },
  {
   "cell_type": "code",
   "execution_count": null,
   "metadata": {},
   "outputs": [],
   "source": [
    "### IMPORTANT\n",
    "\n",
    "\n",
    "# Closing file\n",
    "f.close()"
   ]
  }
 ],
 "metadata": {
  "kernelspec": {
   "display_name": "base",
   "language": "python",
   "name": "python3"
  },
  "language_info": {
   "codemirror_mode": {
    "name": "ipython",
    "version": 3
   },
   "file_extension": ".py",
   "mimetype": "text/x-python",
   "name": "python",
   "nbconvert_exporter": "python",
   "pygments_lexer": "ipython3",
   "version": "3.10.10"
  },
  "orig_nbformat": 4
 },
 "nbformat": 4,
 "nbformat_minor": 2
}
