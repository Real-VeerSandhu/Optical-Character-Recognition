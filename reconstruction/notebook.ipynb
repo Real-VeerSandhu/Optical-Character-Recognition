{
 "cells": [
  {
   "attachments": {},
   "cell_type": "markdown",
   "metadata": {},
   "source": [
    "# Set Up"
   ]
  },
  {
   "cell_type": "code",
   "execution_count": 54,
   "metadata": {},
   "outputs": [],
   "source": [
    "import json\n",
    "\n",
    "# Opening JSON file\n",
    "f = open('output.json')\n",
    "\n",
    "# returns JSON object as\n",
    "# a dictionary\n",
    "data = json.load(f) # data['data] len: 59"
   ]
  },
  {
   "attachments": {},
   "cell_type": "markdown",
   "metadata": {},
   "source": [
    "# Build Raw Data"
   ]
  },
  {
   "cell_type": "code",
   "execution_count": 99,
   "metadata": {},
   "outputs": [
    {
     "name": "stdout",
     "output_type": "stream",
     "text": [
      "59\n"
     ]
    }
   ],
   "source": [
    "x_top_left = []\n",
    "'''0: word index, 1: location'''\n",
    "\n",
    "for i in range(59):\n",
    "\tx_top_left.append([i, data['data'][i]['topLeft']['x']])\n",
    "\n",
    "print(len(data['data']))"
   ]
  },
  {
   "cell_type": "code",
   "execution_count": 100,
   "metadata": {},
   "outputs": [
    {
     "name": "stdout",
     "output_type": "stream",
     "text": [
      "59\n"
     ]
    }
   ],
   "source": [
    "y_top_left = []\n",
    "'''0: word index, 1: location'''\n",
    "\n",
    "for i in range(59):\n",
    "\ty_top_left.append([i, data['data'][i]['topLeft']['y']])\n",
    "\n",
    "print(len(data['data']))"
   ]
  },
  {
   "cell_type": "code",
   "execution_count": 101,
   "metadata": {},
   "outputs": [],
   "source": [
    "def get_text_from_idx(idx):\n",
    "    '''Get the text given its index in output.json'''\n",
    "    return data['data'][idx]['text']"
   ]
  },
  {
   "cell_type": "code",
   "execution_count": 102,
   "metadata": {},
   "outputs": [
    {
     "data": {
      "text/plain": [
       "'0: word index, 1: location'"
      ]
     },
     "execution_count": 102,
     "metadata": {},
     "output_type": "execute_result"
    }
   ],
   "source": [
    "sorted_xtL = sorted(x_top_left,key=lambda x: x[1]) # sorted by x coord\n",
    "'''0: word index, 1: location'''\n",
    "\n",
    "sorted_ytL = sorted(y_top_left,key=lambda x: x[1]) # soorted by y coord\n",
    "'''0: word index, 1: location'''"
   ]
  },
  {
   "attachments": {},
   "cell_type": "markdown",
   "metadata": {},
   "source": [
    "# Organize Data"
   ]
  },
  {
   "cell_type": "code",
   "execution_count": 103,
   "metadata": {},
   "outputs": [],
   "source": [
    "# fix 1-2 off y coordinates \n",
    "\n",
    "corrected_y_coordinates = []\n",
    "prev_y = None\n",
    "\n",
    "for row in sorted_ytL:\n",
    "    y = row[1]\n",
    "    if prev_y is None:\n",
    "        corrected_y_coordinates.append(y)\n",
    "    elif abs(y - prev_y) <= 2:\n",
    "        corrected_y_coordinates.append(corrected_y_coordinates[-1])\n",
    "    else:\n",
    "        corrected_y_coordinates.append(y)\n",
    "\n",
    "    prev_y = corrected_y_coordinates[-1]\n",
    "\n",
    "\n",
    "for i in range(len(sorted_ytL)):\n",
    "    sorted_ytL[i][1] = corrected_y_coordinates[i]"
   ]
  },
  {
   "cell_type": "code",
   "execution_count": 104,
   "metadata": {},
   "outputs": [],
   "source": [
    "# fix 1-2 off x coordinates \n",
    "\n",
    "corrected_x_coordinates = []\n",
    "prev_x = None\n",
    "\n",
    "for row in sorted_xtL:\n",
    "    x = row[1]\n",
    "    if prev_x is None:\n",
    "        corrected_x_coordinates.append(x)\n",
    "    elif abs(x - prev_x) <= 2:\n",
    "        corrected_x_coordinates.append(corrected_x_coordinates[-1])\n",
    "    else:\n",
    "        corrected_x_coordinates.append(x)\n",
    "\n",
    "    prev_x = corrected_x_coordinates[-1]\n",
    "\n",
    "\n",
    "for i in range(len(sorted_xtL)):\n",
    "    sorted_xtL[i][1] = corrected_x_coordinates[i]"
   ]
  },
  {
   "cell_type": "code",
   "execution_count": 105,
   "metadata": {},
   "outputs": [
    {
     "data": {
      "text/plain": [
       "[[3, 5],\n",
       " [4, 5],\n",
       " [0, 5],\n",
       " [1, 5],\n",
       " [34, 5],\n",
       " [7, 41],\n",
       " [8, 41],\n",
       " [9, 41],\n",
       " [2, 41],\n",
       " [10, 41],\n",
       " [11, 41],\n",
       " [12, 41],\n",
       " [13, 41],\n",
       " [35, 41],\n",
       " [36, 41],\n",
       " [37, 41],\n",
       " [38, 41],\n",
       " [39, 41],\n",
       " [40, 41],\n",
       " [41, 41],\n",
       " [42, 41],\n",
       " [43, 41],\n",
       " [44, 41],\n",
       " [45, 41],\n",
       " [46, 41],\n",
       " [47, 41],\n",
       " [48, 41],\n",
       " [49, 41],\n",
       " [50, 41],\n",
       " [51, 41],\n",
       " [52, 41],\n",
       " [53, 41],\n",
       " [54, 41],\n",
       " [55, 41],\n",
       " [56, 41],\n",
       " [57, 41],\n",
       " [14, 157],\n",
       " [15, 157],\n",
       " [16, 157],\n",
       " [17, 157],\n",
       " [18, 157],\n",
       " [19, 157],\n",
       " [20, 157],\n",
       " [21, 157],\n",
       " [58, 157],\n",
       " [5, 201],\n",
       " [22, 201],\n",
       " [23, 201],\n",
       " [24, 201],\n",
       " [25, 201],\n",
       " [26, 201],\n",
       " [27, 201],\n",
       " [6, 236],\n",
       " [28, 236],\n",
       " [29, 236],\n",
       " [30, 236],\n",
       " [31, 236],\n",
       " [32, 236],\n",
       " [33, 236]]"
      ]
     },
     "execution_count": 105,
     "metadata": {},
     "output_type": "execute_result"
    }
   ],
   "source": [
    "sorted_ytL"
   ]
  },
  {
   "cell_type": "code",
   "execution_count": 106,
   "metadata": {},
   "outputs": [
    {
     "data": {
      "text/plain": [
       "[[2, 3],\n",
       " [5, 3],\n",
       " [6, 3],\n",
       " [14, 8],\n",
       " [0, 8],\n",
       " [1, 45],\n",
       " [15, 52],\n",
       " [16, 58],\n",
       " [17, 154],\n",
       " [18, 160],\n",
       " [19, 178],\n",
       " [3, 209],\n",
       " [20, 209],\n",
       " [28, 266],\n",
       " [7, 266],\n",
       " [22, 266],\n",
       " [4, 274],\n",
       " [21, 274],\n",
       " [8, 322],\n",
       " [23, 345],\n",
       " [29, 345],\n",
       " [9, 379],\n",
       " [10, 389],\n",
       " [24, 395],\n",
       " [30, 395],\n",
       " [11, 424],\n",
       " [12, 430],\n",
       " [25, 446],\n",
       " [31, 446],\n",
       " [32, 452],\n",
       " [26, 452],\n",
       " [13, 481],\n",
       " [27, 504],\n",
       " [33, 504],\n",
       " [35, 682],\n",
       " [34, 689],\n",
       " [58, 689],\n",
       " [36, 718],\n",
       " [37, 773],\n",
       " [38, 785],\n",
       " [39, 821],\n",
       " [40, 831],\n",
       " [41, 921],\n",
       " [42, 928],\n",
       " [43, 989],\n",
       " [44, 1008],\n",
       " [45, 1014],\n",
       " [46, 1026],\n",
       " [47, 1102],\n",
       " [48, 1127],\n",
       " [49, 1138],\n",
       " [50, 1217],\n",
       " [51, 1223],\n",
       " [52, 1275],\n",
       " [53, 1295],\n",
       " [54, 1300],\n",
       " [55, 1312],\n",
       " [56, 1377],\n",
       " [57, 1401]]"
      ]
     },
     "execution_count": 106,
     "metadata": {},
     "output_type": "execute_result"
    }
   ],
   "source": [
    "sorted_xtL"
   ]
  },
  {
   "attachments": {},
   "cell_type": "markdown",
   "metadata": {},
   "source": [
    "# Read Data"
   ]
  },
  {
   "cell_type": "code",
   "execution_count": 107,
   "metadata": {},
   "outputs": [
    {
     "data": {
      "text/plain": [
       "'0: word index, 1: y location'"
      ]
     },
     "execution_count": 107,
     "metadata": {},
     "output_type": "execute_result"
    }
   ],
   "source": [
    "# sort x,y by index to map x and y TOGETHER\n",
    "\n",
    "x_idx_sort = sorted(sorted_xtL,key=lambda x: x[0])\n",
    "'''0: word index, 1: x location'''\n",
    "\n",
    "y_idx_sort = sorted(sorted_ytL,key=lambda x: x[0])\n",
    "'''0: word index, 1: y location'''\n"
   ]
  },
  {
   "cell_type": "code",
   "execution_count": 108,
   "metadata": {},
   "outputs": [
    {
     "data": {
      "text/plain": [
       "[[0, 8, 5],\n",
       " [1, 45, 5],\n",
       " [2, 3, 41],\n",
       " [3, 209, 5],\n",
       " [4, 274, 5],\n",
       " [5, 3, 201],\n",
       " [6, 3, 236],\n",
       " [7, 266, 41],\n",
       " [8, 322, 41],\n",
       " [9, 379, 41],\n",
       " [10, 389, 41],\n",
       " [11, 424, 41],\n",
       " [12, 430, 41],\n",
       " [13, 481, 41],\n",
       " [14, 8, 157],\n",
       " [15, 52, 157],\n",
       " [16, 58, 157],\n",
       " [17, 154, 157],\n",
       " [18, 160, 157],\n",
       " [19, 178, 157],\n",
       " [20, 209, 157],\n",
       " [21, 274, 157],\n",
       " [22, 266, 201],\n",
       " [23, 345, 201],\n",
       " [24, 395, 201],\n",
       " [25, 446, 201],\n",
       " [26, 452, 201],\n",
       " [27, 504, 201],\n",
       " [28, 266, 236],\n",
       " [29, 345, 236],\n",
       " [30, 395, 236],\n",
       " [31, 446, 236],\n",
       " [32, 452, 236],\n",
       " [33, 504, 236],\n",
       " [34, 689, 5],\n",
       " [35, 682, 41],\n",
       " [36, 718, 41],\n",
       " [37, 773, 41],\n",
       " [38, 785, 41],\n",
       " [39, 821, 41],\n",
       " [40, 831, 41],\n",
       " [41, 921, 41],\n",
       " [42, 928, 41],\n",
       " [43, 989, 41],\n",
       " [44, 1008, 41],\n",
       " [45, 1014, 41],\n",
       " [46, 1026, 41],\n",
       " [47, 1102, 41],\n",
       " [48, 1127, 41],\n",
       " [49, 1138, 41],\n",
       " [50, 1217, 41],\n",
       " [51, 1223, 41],\n",
       " [52, 1275, 41],\n",
       " [53, 1295, 41],\n",
       " [54, 1300, 41],\n",
       " [55, 1312, 41],\n",
       " [56, 1377, 41],\n",
       " [57, 1401, 41],\n",
       " [58, 689, 157]]"
      ]
     },
     "execution_count": 108,
     "metadata": {},
     "output_type": "execute_result"
    }
   ],
   "source": [
    "xy_arr = x_idx_sort.copy()\n",
    "'''0: text index | 1: x | 2: y'''\n",
    "\n",
    "for i in range(len(xy_arr)):\n",
    "    xy_arr[i].append([row[1] for row in y_idx_sort][i])\n",
    "\n",
    "xy_arr"
   ]
  },
  {
   "cell_type": "code",
   "execution_count": 109,
   "metadata": {},
   "outputs": [
    {
     "data": {
      "text/plain": [
       "[[0, 8, 5],\n",
       " [1, 45, 5],\n",
       " [3, 209, 5],\n",
       " [4, 274, 5],\n",
       " [34, 689, 5],\n",
       " [2, 3, 41],\n",
       " [7, 266, 41],\n",
       " [8, 322, 41],\n",
       " [9, 379, 41],\n",
       " [10, 389, 41],\n",
       " [11, 424, 41],\n",
       " [12, 430, 41],\n",
       " [13, 481, 41],\n",
       " [35, 682, 41],\n",
       " [36, 718, 41],\n",
       " [37, 773, 41],\n",
       " [38, 785, 41],\n",
       " [39, 821, 41],\n",
       " [40, 831, 41],\n",
       " [41, 921, 41],\n",
       " [42, 928, 41],\n",
       " [43, 989, 41],\n",
       " [44, 1008, 41],\n",
       " [45, 1014, 41],\n",
       " [46, 1026, 41],\n",
       " [47, 1102, 41],\n",
       " [48, 1127, 41],\n",
       " [49, 1138, 41],\n",
       " [50, 1217, 41],\n",
       " [51, 1223, 41],\n",
       " [52, 1275, 41],\n",
       " [53, 1295, 41],\n",
       " [54, 1300, 41],\n",
       " [55, 1312, 41],\n",
       " [56, 1377, 41],\n",
       " [57, 1401, 41],\n",
       " [14, 8, 157],\n",
       " [15, 52, 157],\n",
       " [16, 58, 157],\n",
       " [17, 154, 157],\n",
       " [18, 160, 157],\n",
       " [19, 178, 157],\n",
       " [20, 209, 157],\n",
       " [21, 274, 157],\n",
       " [58, 689, 157],\n",
       " [5, 3, 201],\n",
       " [22, 266, 201],\n",
       " [23, 345, 201],\n",
       " [24, 395, 201],\n",
       " [25, 446, 201],\n",
       " [26, 452, 201],\n",
       " [27, 504, 201],\n",
       " [6, 3, 236],\n",
       " [28, 266, 236],\n",
       " [29, 345, 236],\n",
       " [30, 395, 236],\n",
       " [31, 446, 236],\n",
       " [32, 452, 236],\n",
       " [33, 504, 236]]"
      ]
     },
     "execution_count": 109,
     "metadata": {},
     "output_type": "execute_result"
    }
   ],
   "source": [
    "sorted_xy_arr = sorted(xy_arr, key=lambda p: (p[2], p[1])) # sort to fit cartesian form\n",
    "'''SORTED GRID 0: text index | 1: x | 2: y'''\n",
    "\n",
    "sorted_xy_arr"
   ]
  },
  {
   "cell_type": "code",
   "execution_count": 110,
   "metadata": {},
   "outputs": [
    {
     "name": "stdout",
     "output_type": "stream",
     "text": [
      "Part -> XY Coords: 8 5\n",
      "Number -> XY Coords: 45 5\n",
      "MWI -> XY Coords: 209 5\n",
      "Manufacturer -> XY Coords: 274 5\n",
      "Description -> XY Coords: 689 5\n",
      "LF14000NN -> XY Coords: 3 41\n",
      "FLEET -> XY Coords: 266 41\n",
      "GUARD -> XY Coords: 322 41\n",
      ", -> XY Coords: 379 41\n",
      "INC -> XY Coords: 389 41\n",
      "( -> XY Coords: 424 41\n",
      "FLTGR -> XY Coords: 430 41\n",
      ") -> XY Coords: 481 41\n",
      "OIL -> XY Coords: 682 41\n",
      "FILTER -> XY Coords: 718 41\n",
      ", -> XY Coords: 773 41\n",
      "OAH -> XY Coords: 785 41\n",
      ", -> XY Coords: 821 41\n",
      "294.69MM -> XY Coords: 831 41\n",
      "( -> XY Coords: 921 41\n",
      "11.602 -> XY Coords: 928 41\n",
      "IN -> XY Coords: 989 41\n",
      ". -> XY Coords: 1008 41\n",
      ") -> XY Coords: 1014 41\n",
      "LARGEST -> XY Coords: 1026 41\n",
      "OD -> XY Coords: 1102 41\n",
      ", -> XY Coords: 1127 41\n",
      "120.3MM -> XY Coords: 1138 41\n",
      "( -> XY Coords: 1217 41\n",
      "4.736 -> XY Coords: 1223 41\n",
      "IN -> XY Coords: 1275 41\n",
      ". -> XY Coords: 1295 41\n",
      ") -> XY Coords: 1300 41\n",
      "GASKET -> XY Coords: 1312 41\n",
      "OD -> XY Coords: 1377 41\n",
      ". -> XY Coords: 1401 41\n",
      "Cross -> XY Coords: 8 157\n",
      "- -> XY Coords: 52 157\n",
      "References -> XY Coords: 58 157\n",
      "( -> XY Coords: 154 157\n",
      "95 -> XY Coords: 160 157\n",
      ") -> XY Coords: 178 157\n",
      "MWI -> XY Coords: 209 157\n",
      "Manufacturer -> XY Coords: 274 157\n",
      "Description -> XY Coords: 689 157\n",
      "10558156 -> XY Coords: 3 201\n",
      "ADVANCE -> XY Coords: 266 201\n",
      "AUTO -> XY Coords: 345 201\n",
      "PARTS -> XY Coords: 395 201\n",
      "( -> XY Coords: 446 201\n",
      "ADVAP -> XY Coords: 452 201\n",
      ") -> XY Coords: 504 201\n",
      "11500178 -> XY Coords: 3 236\n",
      "ADVANCE -> XY Coords: 266 236\n",
      "AUTO -> XY Coords: 345 236\n",
      "PARTS -> XY Coords: 395 236\n",
      "( -> XY Coords: 446 236\n",
      "ADVAP -> XY Coords: 452 236\n",
      ") -> XY Coords: 504 236\n"
     ]
    }
   ],
   "source": [
    "for i in sorted_xy_arr:\n",
    "    print(get_text_from_idx(i[0]), '-> XY Coords:', i[1], i[2])"
   ]
  },
  {
   "attachments": {},
   "cell_type": "markdown",
   "metadata": {},
   "source": [
    "# Convert Back to JSON"
   ]
  },
  {
   "cell_type": "code",
   "execution_count": 111,
   "metadata": {},
   "outputs": [
    {
     "data": {
      "text/plain": [
       "[['Part', 8, 5],\n",
       " ['Number', 45, 5],\n",
       " ['MWI', 209, 5],\n",
       " ['Manufacturer', 274, 5],\n",
       " ['Description', 689, 5],\n",
       " ['LF14000NN', 3, 41],\n",
       " ['FLEET', 266, 41],\n",
       " ['GUARD', 322, 41],\n",
       " [',', 379, 41],\n",
       " ['INC', 389, 41],\n",
       " ['(', 424, 41],\n",
       " ['FLTGR', 430, 41],\n",
       " [')', 481, 41],\n",
       " ['OIL', 682, 41],\n",
       " ['FILTER', 718, 41],\n",
       " [',', 773, 41],\n",
       " ['OAH', 785, 41],\n",
       " [',', 821, 41],\n",
       " ['294.69MM', 831, 41],\n",
       " ['(', 921, 41],\n",
       " ['11.602', 928, 41],\n",
       " ['IN', 989, 41],\n",
       " ['.', 1008, 41],\n",
       " [')', 1014, 41],\n",
       " ['LARGEST', 1026, 41],\n",
       " ['OD', 1102, 41],\n",
       " [',', 1127, 41],\n",
       " ['120.3MM', 1138, 41],\n",
       " ['(', 1217, 41],\n",
       " ['4.736', 1223, 41],\n",
       " ['IN', 1275, 41],\n",
       " ['.', 1295, 41],\n",
       " [')', 1300, 41],\n",
       " ['GASKET', 1312, 41],\n",
       " ['OD', 1377, 41],\n",
       " ['.', 1401, 41],\n",
       " ['Cross', 8, 157],\n",
       " ['-', 52, 157],\n",
       " ['References', 58, 157],\n",
       " ['(', 154, 157],\n",
       " ['95', 160, 157],\n",
       " [')', 178, 157],\n",
       " ['MWI', 209, 157],\n",
       " ['Manufacturer', 274, 157],\n",
       " ['Description', 689, 157],\n",
       " ['10558156', 3, 201],\n",
       " ['ADVANCE', 266, 201],\n",
       " ['AUTO', 345, 201],\n",
       " ['PARTS', 395, 201],\n",
       " ['(', 446, 201],\n",
       " ['ADVAP', 452, 201],\n",
       " [')', 504, 201],\n",
       " ['11500178', 3, 236],\n",
       " ['ADVANCE', 266, 236],\n",
       " ['AUTO', 345, 236],\n",
       " ['PARTS', 395, 236],\n",
       " ['(', 446, 236],\n",
       " ['ADVAP', 452, 236],\n",
       " [')', 504, 236]]"
      ]
     },
     "execution_count": 111,
     "metadata": {},
     "output_type": "execute_result"
    }
   ],
   "source": [
    "inline_arr = sorted_xy_arr.copy()\n",
    "\n",
    "for i in inline_arr:\n",
    "    i[0] = get_text_from_idx(i[0])\n",
    "\n",
    "inline_arr"
   ]
  },
  {
   "cell_type": "code",
   "execution_count": 112,
   "metadata": {},
   "outputs": [
    {
     "data": {
      "text/plain": [
       "[['Part', 5],\n",
       " ['Number', 5],\n",
       " ['MWI', 5],\n",
       " ['Manufacturer', 5],\n",
       " ['Description', 5],\n",
       " ['LF14000NN', 41],\n",
       " ['FLEET', 41],\n",
       " ['GUARD', 41],\n",
       " [',', 41],\n",
       " ['INC', 41],\n",
       " ['(', 41],\n",
       " ['FLTGR', 41],\n",
       " [')', 41],\n",
       " ['OIL', 41],\n",
       " ['FILTER', 41],\n",
       " [',', 41],\n",
       " ['OAH', 41],\n",
       " [',', 41],\n",
       " ['294.69MM', 41],\n",
       " ['(', 41],\n",
       " ['11.602', 41],\n",
       " ['IN', 41],\n",
       " ['.', 41],\n",
       " [')', 41],\n",
       " ['LARGEST', 41],\n",
       " ['OD', 41],\n",
       " [',', 41],\n",
       " ['120.3MM', 41],\n",
       " ['(', 41],\n",
       " ['4.736', 41],\n",
       " ['IN', 41],\n",
       " ['.', 41],\n",
       " [')', 41],\n",
       " ['GASKET', 41],\n",
       " ['OD', 41],\n",
       " ['.', 41],\n",
       " ['Cross', 157],\n",
       " ['-', 157],\n",
       " ['References', 157],\n",
       " ['(', 157],\n",
       " ['95', 157],\n",
       " [')', 157],\n",
       " ['MWI', 157],\n",
       " ['Manufacturer', 157],\n",
       " ['Description', 157],\n",
       " ['10558156', 201],\n",
       " ['ADVANCE', 201],\n",
       " ['AUTO', 201],\n",
       " ['PARTS', 201],\n",
       " ['(', 201],\n",
       " ['ADVAP', 201],\n",
       " [')', 201],\n",
       " ['11500178', 236],\n",
       " ['ADVANCE', 236],\n",
       " ['AUTO', 236],\n",
       " ['PARTS', 236],\n",
       " ['(', 236],\n",
       " ['ADVAP', 236],\n",
       " [')', 236]]"
      ]
     },
     "execution_count": 112,
     "metadata": {},
     "output_type": "execute_result"
    }
   ],
   "source": [
    "inline_arr = [[row[i] for i in range(len(row)) if i != 1] for row in inline_arr]\n",
    "inline_arr"
   ]
  },
  {
   "cell_type": "code",
   "execution_count": 114,
   "metadata": {},
   "outputs": [
    {
     "data": {
      "text/plain": [
       "[['Part', 5],\n",
       " ['Number', 5],\n",
       " ['MWI', 5],\n",
       " ['Manufacturer', 5],\n",
       " ['Description', 5]]"
      ]
     },
     "execution_count": 114,
     "metadata": {},
     "output_type": "execute_result"
    }
   ],
   "source": [
    "grouped_dict = {}\n",
    "for item in inline_arr:\n",
    "    key = item[1]\n",
    "    if key in grouped_dict:\n",
    "        grouped_dict[key].append(item)\n",
    "    else:\n",
    "        grouped_dict[key] = [item]\n",
    "\n",
    "grouped_arrays = list(grouped_dict.values())\n",
    "grouped_arrays[0]"
   ]
  },
  {
   "cell_type": "code",
   "execution_count": 149,
   "metadata": {},
   "outputs": [
    {
     "data": {
      "text/plain": [
       "{'5': 'Part Number MWI Manufacturer Description ',\n",
       " '41': 'LF14000NN FLEET GUARD , INC ( FLTGR ) OIL FILTER , OAH , 294.69MM ( 11.602 IN . ) LARGEST OD , 120.3MM ( 4.736 IN . ) GASKET OD . ',\n",
       " '157': 'Cross - References ( 95 ) MWI Manufacturer Description ',\n",
       " '201': '10558156 ADVANCE AUTO PARTS ( ADVAP ) ',\n",
       " '236': '11500178 ADVANCE AUTO PARTS ( ADVAP ) '}"
      ]
     },
     "execution_count": 149,
     "metadata": {},
     "output_type": "execute_result"
    }
   ],
   "source": [
    "dict = {}\n",
    "\n",
    "for i in grouped_arrays:\n",
    "    key = f'{i[0][1]}'\n",
    "    dict[key] = ''\n",
    "\n",
    "for i in grouped_arrays:\n",
    "    for j in i:\n",
    "        dict[str(j[1])] +=  j[0] + ' '\n",
    "        \n",
    "dict"
   ]
  },
  {
   "cell_type": "code",
   "execution_count": 150,
   "metadata": {},
   "outputs": [],
   "source": [
    "with open(\"reconstructed_output.json\", \"w\") as outfile:\n",
    "    json.dump(dict, outfile)"
   ]
  },
  {
   "attachments": {},
   "cell_type": "markdown",
   "metadata": {},
   "source": [
    "# Close File"
   ]
  },
  {
   "cell_type": "code",
   "execution_count": 144,
   "metadata": {},
   "outputs": [],
   "source": [
    "### IMPORTANT\n",
    "\n",
    "\n",
    "# Closing file\n",
    "f.close()"
   ]
  }
 ],
 "metadata": {
  "kernelspec": {
   "display_name": "base",
   "language": "python",
   "name": "python3"
  },
  "language_info": {
   "codemirror_mode": {
    "name": "ipython",
    "version": 3
   },
   "file_extension": ".py",
   "mimetype": "text/x-python",
   "name": "python",
   "nbconvert_exporter": "python",
   "pygments_lexer": "ipython3",
   "version": "3.10.10"
  },
  "orig_nbformat": 4
 },
 "nbformat": 4,
 "nbformat_minor": 2
}
