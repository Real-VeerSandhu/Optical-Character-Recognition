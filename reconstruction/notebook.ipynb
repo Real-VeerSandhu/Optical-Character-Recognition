{
 "cells": [
  {
   "cell_type": "code",
   "execution_count": 1,
   "metadata": {},
   "outputs": [],
   "source": [
    "import json\n",
    "\n",
    "# Opening JSON file\n",
    "f = open('output.json')\n",
    "\n",
    "# returns JSON object as\n",
    "# a dictionary\n",
    "data = json.load(f) # data['data] len: 59"
   ]
  },
  {
   "cell_type": "code",
   "execution_count": 2,
   "metadata": {},
   "outputs": [
    {
     "name": "stdout",
     "output_type": "stream",
     "text": [
      "9\n",
      "45\n",
      "3\n",
      "209\n",
      "274\n",
      "3\n",
      "4\n",
      "267\n",
      "322\n",
      "379\n",
      "389\n",
      "424\n",
      "430\n",
      "481\n",
      "8\n",
      "52\n",
      "58\n",
      "154\n",
      "160\n",
      "178\n",
      "209\n",
      "275\n",
      "267\n",
      "345\n",
      "395\n",
      "446\n",
      "453\n",
      "504\n",
      "266\n",
      "346\n",
      "395\n",
      "447\n",
      "452\n",
      "505\n",
      "689\n",
      "682\n",
      "718\n",
      "773\n",
      "785\n",
      "821\n",
      "831\n",
      "921\n",
      "928\n",
      "989\n",
      "1008\n",
      "1014\n",
      "1026\n",
      "1102\n",
      "1127\n",
      "1138\n",
      "1217\n",
      "1223\n",
      "1275\n",
      "1295\n",
      "1300\n",
      "1312\n",
      "1377\n",
      "1401\n",
      "689\n",
      "59\n"
     ]
    }
   ],
   "source": [
    "x_top_left = []\n",
    "'''first index: i, second index: location'''\n",
    "\n",
    "for i in range(59):\n",
    "\tprint(data['data'][i]['topLeft']['x'])\n",
    "\tx_top_left.append([i, data['data'][i]['topLeft']['x']])\n",
    "\n",
    "print(len(data['data']))"
   ]
  },
  {
   "cell_type": "code",
   "execution_count": 5,
   "metadata": {},
   "outputs": [
    {
     "data": {
      "text/plain": [
       "59"
      ]
     },
     "execution_count": 5,
     "metadata": {},
     "output_type": "execute_result"
    }
   ],
   "source": [
    "len(x_top_left)"
   ]
  },
  {
   "cell_type": "code",
   "execution_count": null,
   "metadata": {},
   "outputs": [],
   "source": [
    "### IMPORTANT\n",
    "\n",
    "\n",
    "# Closing file\n",
    "f.close()"
   ]
  }
 ],
 "metadata": {
  "kernelspec": {
   "display_name": "base",
   "language": "python",
   "name": "python3"
  },
  "language_info": {
   "codemirror_mode": {
    "name": "ipython",
    "version": 3
   },
   "file_extension": ".py",
   "mimetype": "text/x-python",
   "name": "python",
   "nbconvert_exporter": "python",
   "pygments_lexer": "ipython3",
   "version": "3.10.10"
  },
  "orig_nbformat": 4
 },
 "nbformat": 4,
 "nbformat_minor": 2
}
